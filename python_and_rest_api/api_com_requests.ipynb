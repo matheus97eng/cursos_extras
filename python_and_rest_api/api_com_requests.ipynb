{
  "nbformat": 4,
  "nbformat_minor": 0,
  "metadata": {
    "colab": {
      "name": "api_com_requests.ipynb",
      "provenance": [],
      "authorship_tag": "ABX9TyMJokDzNV1VCkMDiXBzP6XM",
      "include_colab_link": true
    },
    "kernelspec": {
      "name": "python3",
      "display_name": "Python 3"
    },
    "language_info": {
      "name": "python"
    }
  },
  "cells": [
    {
      "cell_type": "markdown",
      "metadata": {
        "id": "view-in-github",
        "colab_type": "text"
      },
      "source": [
        "<a href=\"https://colab.research.google.com/github/matheus97eng/cursos_extras/blob/main/python_and_rest_api/api_com_requests.ipynb\" target=\"_parent\"><img src=\"https://colab.research.google.com/assets/colab-badge.svg\" alt=\"Open In Colab\"/></a>"
      ]
    },
    {
      "cell_type": "markdown",
      "metadata": {
        "id": "3LqHc90Ki1Es"
      },
      "source": [
        "Estudo prático da biblioteca `requests` para trabalhar com APIs. Estudo baseado no [artigo da real python](https://realpython.com/api-integration-in-python/) (em inglês).\n",
        "\n",
        "- [documentação requests](https://docs.python-requests.org/en/latest/)\n",
        "- para utilizar os métodos da biblioteca requests, será utilizado o serviço [JSONPlaceholder](https://jsonplaceholder.typicode.com/), que fornece fake APIs ao qual a biblioteca consegue trabalhar."
      ]
    },
    {
      "cell_type": "markdown",
      "metadata": {
        "id": "NPxcMEfok4yw"
      },
      "source": [
        "### Iniciando. método GET\n",
        "\n",
        "Vamos usar o método GET para fazer um requerimento a `/todos/1`.\n",
        "\n",
        "A partir desse método temos um objeto `response`. O método `.json()` extrai os dados que vieram com a API."
      ]
    },
    {
      "cell_type": "code",
      "metadata": {
        "colab": {
          "base_uri": "https://localhost:8080/"
        },
        "id": "3KuMVrFyiRyN",
        "outputId": "133f779a-a15d-4278-f4d5-6ceb0790a8c5"
      },
      "source": [
        "import requests\n",
        "api_url = \"https://jsonplaceholder.typicode.com/todos/1\"\n",
        "response = requests.get(api_url)\n",
        "response.json()"
      ],
      "execution_count": null,
      "outputs": [
        {
          "output_type": "execute_result",
          "data": {
            "text/plain": [
              "{'completed': False, 'id': 1, 'title': 'delectus aut autem', 'userId': 1}"
            ]
          },
          "metadata": {},
          "execution_count": 1
        }
      ]
    },
    {
      "cell_type": "markdown",
      "metadata": {
        "id": "9iWRgEDosK8e"
      },
      "source": [
        "Um arquivo JSON (notação de objetos javascript em português) é bem similar a um dicionário python. Realmente, se fizermos..."
      ]
    },
    {
      "cell_type": "code",
      "metadata": {
        "colab": {
          "base_uri": "https://localhost:8080/"
        },
        "id": "iAfEni09r_Zv",
        "outputId": "448e1177-d563-4e83-d68f-36b1873a5e29"
      },
      "source": [
        "type(response.json())"
      ],
      "execution_count": null,
      "outputs": [
        {
          "output_type": "execute_result",
          "data": {
            "text/plain": [
              "dict"
            ]
          },
          "metadata": {},
          "execution_count": 2
        }
      ]
    },
    {
      "cell_type": "markdown",
      "metadata": {
        "id": "JPDC5pKIspr2"
      },
      "source": [
        "Vemos que realmente o python trata `response.json()` como um dicionário.\n",
        "\n",
        "Aqui vai mais outras coisas que podemos obter a partir de `response`:"
      ]
    },
    {
      "cell_type": "code",
      "metadata": {
        "colab": {
          "base_uri": "https://localhost:8080/"
        },
        "id": "YC50sXhssjM3",
        "outputId": "b31459c0-8c57-43f8-fd23-a0fb6ffe2a47"
      },
      "source": [
        "print('status code do HTTP:', response.status_code)\n",
        "\n",
        "print('header do HTTP:', response.headers)  # note que isso é tbm um dicionário"
      ],
      "execution_count": null,
      "outputs": [
        {
          "output_type": "stream",
          "name": "stdout",
          "text": [
            "status code do HTTP: 200\n",
            "header do HTTP: {'Date': 'Mon, 11 Oct 2021 14:09:48 GMT', 'Content-Type': 'application/json; charset=utf-8', 'Transfer-Encoding': 'chunked', 'Connection': 'keep-alive', 'x-powered-by': 'Express', 'x-ratelimit-limit': '1000', 'x-ratelimit-remaining': '999', 'x-ratelimit-reset': '1633049424', 'vary': 'Origin, Accept-Encoding', 'access-control-allow-credentials': 'true', 'cache-control': 'max-age=43200', 'pragma': 'no-cache', 'expires': '-1', 'x-content-type-options': 'nosniff', 'etag': 'W/\"53-hfEnumeNh6YirfjyjaujcOPPT+s\"', 'via': '1.1 vegur', 'CF-Cache-Status': 'HIT', 'Age': '19173', 'Expect-CT': 'max-age=604800, report-uri=\"https://report-uri.cloudflare.com/cdn-cgi/beacon/expect-ct\"', 'Report-To': '{\"endpoints\":[{\"url\":\"https:\\\\/\\\\/a.nel.cloudflare.com\\\\/report\\\\/v3?s=HYwp%2FflFQS0nbCnDqiu6DK0%2FTjbToo2xdYHFKVnw%2BOJhEDJvvOJ1fYMjkrKySMNKMQIhItTxeb4Q3uv24zVDDGgZ7GFGY%2FtD59P%2BJ%2FnxMVekKqg4paceEgGPHYPbfBHPJro%2Bn1FjLp8%2BsbIMkJXp\"}],\"group\":\"cf-nel\",\"max_age\":604800}', 'NEL': '{\"success_fraction\":0,\"report_to\":\"cf-nel\",\"max_age\":604800}', 'Server': 'cloudflare', 'CF-RAY': '69c8ab13de5fcef4-IAD', 'Content-Encoding': 'gzip', 'alt-svc': 'h3=\":443\"; ma=86400, h3-29=\":443\"; ma=86400, h3-28=\":443\"; ma=86400, h3-27=\":443\"; ma=86400'}\n"
          ]
        }
      ]
    },
    {
      "cell_type": "markdown",
      "metadata": {
        "id": "JyKa-9mFy0EO"
      },
      "source": [
        "### método POST\n",
        "\n",
        "Agora vamos utilizar o método POST para adicionar dados ao endpoint `/todos`. Vamos adicionar uma nova tarefa, um `to_do`. Essa nova tarefa será nossa nova requisição `request`."
      ]
    },
    {
      "cell_type": "code",
      "metadata": {
        "colab": {
          "base_uri": "https://localhost:8080/"
        },
        "id": "ep58a2pMvTc6",
        "outputId": "664f2214-d8b6-42ea-867c-a5d5b0577d52"
      },
      "source": [
        "api_url = \"https://jsonplaceholder.typicode.com/todos\"\n",
        "to_do = {\"userId\": 1, \"title\": \"Buy milk\", \"completed\": False}\n",
        "response = requests.post(api_url, json=to_do)\n",
        "\n",
        "print('status HTTP:', response.status_code)\n",
        "print('conteúdo: ', response.json())"
      ],
      "execution_count": null,
      "outputs": [
        {
          "output_type": "stream",
          "name": "stdout",
          "text": [
            "status HTTP: 201\n",
            "conteúdo:  {'userId': 1, 'title': 'Buy milk', 'completed': False, 'id': 201}\n"
          ]
        }
      ]
    },
    {
      "cell_type": "code",
      "metadata": {
        "id": "uBONWbhw1uRY"
      },
      "source": [
        ""
      ],
      "execution_count": null,
      "outputs": []
    }
  ]
}